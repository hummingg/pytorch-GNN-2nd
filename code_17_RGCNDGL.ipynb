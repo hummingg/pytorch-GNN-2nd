{
 "cells": [
  {
   "cell_type": "code",
   "execution_count": 2,
   "outputs": [],
   "source": [
    "# import sys\n",
    "# sys.path.append(r'D:\\GitProjects\\pytorch-GNN\\pytorch-GNN-2nd')\n"
   ],
   "metadata": {
    "collapsed": false,
    "pycharm": {
     "name": "#%%\n"
    }
   }
  },
  {
   "cell_type": "code",
   "execution_count": 2,
   "outputs": [
    {
     "name": "stdout",
     "output_type": "stream",
     "text": [
      "cpu\n"
     ]
    }
   ],
   "source": [
    "# -*- coding: utf-8 -*-\n",
    "\"\"\"\n",
    "Created on Sat Apr 11 08:03:20 2020\n",
    "@author: 代码医生工作室\n",
    "@公众号：xiangyuejiqiren   （内有更多优秀文章及学习资料）\n",
    "@来源: <PyTorch深度学习和图神经网络(卷2）——开发应用>配套代码\n",
    "@配套代码技术支持：bbs.aianaconda.com\n",
    "\"\"\"\n",
    "\n",
    "import torch\n",
    "import torch.nn as nn\n",
    "import torch.nn.functional as F\n",
    "import torch.optim as optim\n",
    "from torch.utils.data import Dataset, DataLoader\n",
    "\n",
    "import dgl\n",
    "from dgl.nn.pytorch.conv import RelGraphConv\n",
    "\n",
    "import re\n",
    "import numpy as np\n",
    "import pandas as pd\n",
    "\n",
    "# 如何优雅import\n",
    "from code_15_BERT_PROPN import (device, df_test, df_train_val, getmodel)\n",
    "\n",
    "import spacy\n",
    "import pickle\n",
    "import collections\n",
    "\n",
    "from sklearn.metrics import log_loss\n",
    "from sklearn.model_selection import StratifiedKFold\n",
    "\n",
    "import matplotlib.pyplot as plt\n",
    "from operator import itemgetter\n",
    "from sklearn import metrics"
   ],
   "metadata": {
    "collapsed": false,
    "pycharm": {
     "name": "#%%\n"
    },
    "ExecuteTime": {
     "end_time": "2023-12-31T09:01:08.756144900Z",
     "start_time": "2023-12-31T09:01:02.446824100Z"
    }
   }
  },
  {
   "cell_type": "code",
   "execution_count": 4,
   "outputs": [],
   "source": [
    "base_dir = 'output/'\n",
    "\n",
    "'''加载预处理文件'''\n",
    "\n",
    "# 其他词 NoPUNC：no punctuation mark，即去掉标点符号\n",
    "# 在训练数据集中，目标代词、名称A、名称B的偏移位置？\n",
    "offsets_NoPUNC = pickle.load(open(base_dir + 'offsets_NoPUNC.pkl', \"rb\"))\n",
    "# 在训练数据集中，文本的子词向量序列\n",
    "tokens_NoPUNC = pickle.load(open(base_dir + 'tokens_NoPUNC_padding.pkl', \"rb\"))  # tokens of every sentence without padding\n",
    "# # 在训练数据集中，BERT模型的输出结果\n",
    "bert_forNoPUNC = pickle.load(open(base_dir + 'bert_outputs_forNoPUNC.pkl', \"rb\"))  # list of outputs of bert for every sentence\n",
    "# 在训练数据集中，BERT last_hidden_state 中对应目标代词、名称A、名称B的那3个向量\n",
    "PROPN_bert = pickle.load(open(base_dir + 'bert_outputs_forPROPN.pkl', \"rb\"))\n",
    "\n",
    "# offsets_NoPUNC    2454,3\n",
    "# tokens_NoPUNC     2454,266\n",
    "# bert_forNoPUNC    2454,1,266,768\n",
    "# PROPN_bert        2454,1,3,768"
   ],
   "metadata": {
    "collapsed": false,
    "pycharm": {
     "name": "#%%\n"
    },
    "ExecuteTime": {
     "end_time": "2023-12-31T09:01:43.408935800Z",
     "start_time": "2023-12-31T09:01:21.911055Z"
    }
   }
  },
  {
   "cell_type": "code",
   "execution_count": 7,
   "outputs": [
    {
     "name": "stdout",
     "output_type": "stream",
     "text": [
      "['[THISISA]', '[THISISB]', '[THISISP]'] [30522, 30523, 30524]\n"
     ]
    },
    {
     "name": "stderr",
     "output_type": "stream",
     "text": [
      "Some weights of the model checkpoint at huggingface/bert-base-uncased were not used when initializing BertModel: ['cls.predictions.transform.dense.bias', 'cls.predictions.bias', 'cls.seq_relationship.bias', 'cls.predictions.transform.dense.weight', 'cls.seq_relationship.weight', 'cls.predictions.transform.LayerNorm.bias', 'cls.predictions.transform.LayerNorm.weight']\n",
      "- This IS expected if you are initializing BertModel from the checkpoint of a model trained on another task or with another architecture (e.g. initializing a BertForSequenceClassification model from a BertForPreTraining model).\n",
      "- This IS NOT expected if you are initializing BertModel from the checkpoint of a model that you expect to be exactly identical (initializing a BertForSequenceClassification model from a BertForSequenceClassification model).\n"
     ]
    }
   ],
   "source": [
    "tokenizer, _ = getmodel()  # 加载BERT分词工具\n",
    "# parser = spacy.load('en')  # 加载SpaCy模型  'en_core_web_sm')#en_core_web_lg\n",
    "parser = spacy.load(\"en_core_web_sm\")"
   ],
   "metadata": {
    "collapsed": false,
    "pycharm": {
     "name": "#%%\n"
    },
    "ExecuteTime": {
     "end_time": "2023-12-31T09:03:28.024224600Z",
     "start_time": "2023-12-31T09:03:23.614861800Z"
    }
   }
  },
  {
   "cell_type": "code",
   "execution_count": 17,
   "outputs": [
    {
     "name": "stdout",
     "output_type": "stream",
     "text": [
      "(70, 72, 75)\n",
      "[101, 2588, 2037, 9920, 2046, 1996, 12849, 26730, 15758, 3873, 2223, 2139, 2187, 6435, 2000, 3696, 1037, 3206, 1999, 2762, 2007, 15501, 2278, 1049, 13316, 10222, 1997, 1996, 3972, 2006, 2238, 2044, 11847, 1996, 2446, 2528, 2007, 1996, 1049, 13316, 10222, 2136, 1999, 2002, 2187, 1996, 2252, 1998, 2001, 3856, 2039, 2011, 3507, 3972, 2217, 15501, 2278, 4702, 9695, 1999, 2251, 2280, 7097, 2121, 5639, 10514, 3334, 1998, 4386, 12968, 3960, 2024, 2139, 1055, 27328, 2010, 5542, 2003, 5135, 3748, 1055, 6585, 2952, 4575, 10514, 3334, 102, 0, 0, 0, 0, 0, 0, 0, 0, 0, 0, 0, 0, 0, 0, 0, 0, 0, 0, 0, 0, 0, 0, 0, 0, 0, 0, 0, 0, 0, 0, 0, 0, 0, 0, 0, 0, 0, 0, 0, 0, 0, 0, 0, 0, 0, 0, 0, 0, 0, 0, 0, 0, 0, 0, 0, 0, 0, 0, 0, 0, 0, 0, 0, 0, 0, 0, 0, 0, 0, 0, 0, 0, 0, 0, 0, 0, 0, 0, 0, 0, 0, 0, 0, 0, 0, 0, 0, 0, 0, 0, 0, 0, 0, 0, 0, 0, 0, 0, 0, 0, 0, 0, 0, 0, 0, 0, 0, 0, 0, 0, 0, 0, 0, 0, 0, 0, 0, 0, 0, 0, 0, 0, 0, 0, 0, 0, 0, 0, 0, 0, 0, 0, 0, 0, 0, 0, 0, 0, 0, 0, 0, 0, 0, 0, 0, 0, 0, 0, 0, 0, 0, 0, 0, 0, 0, 0, 0, 0, 0, 0, 0, 0, 0, 0, 0, 0, 0, 0, 0, 0, 0, 0, 0, 0, 0, 0, 0, 0, 0]\n",
      "70\n",
      "3960\n",
      "bob de his \n",
      "alonso alfredo him \n",
      "ali saddam he \n"
     ]
    }
   ],
   "source": [
    "# (70, 72, 75)\n",
    "print(offsets_NoPUNC[0])\n",
    "# [101, ..., 102, 0 * m]\n",
    "print(tokens_NoPUNC[0])\n",
    "print(offsets_NoPUNC[0][0])\n",
    "print(tokens_NoPUNC[0][70])\n",
    "# A: bob, B: de, P: his.\n",
    "for i in range(3):\n",
    "    for j in range(3):\n",
    "        print(tokenizer.convert_ids_to_tokens(tokens_NoPUNC[i][offsets_NoPUNC[i][j]]), end=' ')\n",
    "    print()\n",
    "\n",
    "# print(bert_forNoPUNC[0])\n",
    "# print(PROPN_bert[0])"
   ],
   "metadata": {
    "collapsed": false,
    "ExecuteTime": {
     "end_time": "2023-12-31T09:09:41.570527Z",
     "start_time": "2023-12-31T09:09:41.503399100Z"
    }
   }
  },
  {
   "cell_type": "code",
   "execution_count": 84,
   "outputs": [
    {
     "name": "stdout",
     "output_type": "stream",
     "text": [
      "Variable Name (Local): x\n",
      "Variable Name (Local): y\n",
      "Variable Name (Local): z\n",
      "Variable Name (Local): offsets_NoPUNC\n"
     ]
    }
   ],
   "source": [
    "import inspect\n",
    "\n",
    "def print_variable_name(variable):\n",
    "    # 获取当前作用域的局部变量和全局变量\n",
    "    frame = inspect.currentframe().f_back\n",
    "    local_vars = frame.f_locals\n",
    "    global_vars = frame.f_globals\n",
    "\n",
    "    # 搜索变量并打印名称\n",
    "    for name, value in local_vars.items():\n",
    "        if value is variable:\n",
    "            print(f\"Variable Name (Local): {name}\")\n",
    "            return\n",
    "\n",
    "    for name, value in global_vars.items():\n",
    "        if value is variable:\n",
    "            print(f\"Variable Name (Global): {name}\")\n",
    "            return\n",
    "\n",
    "    print(\"Variable Name: Not found\")\n",
    "\n",
    "# 示例变量\n",
    "x = 42\n",
    "y = [1, 2, 3]\n",
    "z = \"Hello\"\n",
    "\n",
    "# 查看变量名称\n",
    "print_variable_name(x)\n",
    "print_variable_name(y)\n",
    "print_variable_name(z)\n",
    "print_variable_name(offsets_NoPUNC)"
   ],
   "metadata": {
    "collapsed": false,
    "pycharm": {
     "name": "#%%\n"
    }
   }
  },
  {
   "cell_type": "code",
   "execution_count": 73,
   "outputs": [
    {
     "name": "stdout",
     "output_type": "stream",
     "text": [
      "tensor\n",
      "Type: <class 'torch.Tensor'>\n",
      "Shape: torch.Size([2, 3])\n",
      "Data Type: torch.int64\n",
      "Index: 0\n",
      "  Type: <class 'torch.Tensor'>\n",
      "  Shape: torch.Size([3])\n",
      "  Data Type: torch.int64\n",
      "  Index: 0\n",
      "    Type: <class 'torch.Tensor'>\n",
      "    Shape: torch.Size([])\n",
      "    Data Type: torch.int64\n",
      "int\n",
      "Type: <class 'int'>\n",
      "dict\n",
      "Type: <class 'dict'>\n",
      "Keys: ['a']\n",
      "Key: a\n",
      "  Type: <class 'str'>\n",
      "offsets_NoPUNC\n",
      "Type: <class 'list'>\n",
      "Shape: 2454\n",
      "Index: 0\n",
      "  Type: <class 'tuple'>\n",
      "  Shape: 3\n",
      "  Index: 0\n",
      "    Type: <class 'int'>\n"
     ]
    }
   ],
   "source": [
    "def print_variable_structure(variable, indent=\"\"):\n",
    "    print(f\"{}\\n\")\n",
    "    print(f\"{indent}Type: {type(variable)}\")\n",
    "    if isinstance(variable, dict):\n",
    "        print(f\"{indent}Keys: {list(variable.keys())}\")\n",
    "        for key, value in variable.items():\n",
    "            print(f\"{indent}Key: {key}\")\n",
    "            print_variable_structure(value, indent + \"  \")\n",
    "            break\n",
    "    elif isinstance(variable, (list, tuple, np.ndarray, torch.Tensor)):\n",
    "        if isinstance(variable, (list, tuple)):\n",
    "            print(f\"{indent}Shape: {len(variable)}\")\n",
    "            if len(variable) == 0:\n",
    "                return\n",
    "        if isinstance(variable, (np.ndarray, torch.Tensor)):\n",
    "            print(f\"{indent}Shape: {variable.shape}\")\n",
    "            print(f\"{indent}Data Type: {variable.dtype}\")\n",
    "            if isinstance(variable, (torch.Tensor)) and variable.dim() == 0 or \\\n",
    "                isinstance(variable, (np.ndarray)) and variable.ndim == 0 :\n",
    "                return\n",
    "        for index, value in enumerate(variable):\n",
    "            print(f\"{indent}Index: {index}\")\n",
    "            print_variable_structure(value, indent + \"  \")\n",
    "            break\n",
    "    elif hasattr(variable, \"__dict__\"):\n",
    "        print(f\"{indent}Attributes: {list(variable.__dict__.keys())}\")\n",
    "        for attr_name, attr_value in variable.__dict__.items():\n",
    "            print(f\"{indent}Attribute: {attr_name}\")\n",
    "            print_variable_structure(attr_value, indent + \"  \")\n",
    "            break\n",
    "\n",
    "# 示例变量\n",
    "print('tensor')\n",
    "x = torch.tensor([[1, 2, 3], [4, 5, 6]])\n",
    "print_variable_structure(x)\n",
    "print('int')\n",
    "x = 1\n",
    "print_variable_structure(x)\n",
    "print('dict')\n",
    "print_variable_structure({'a': 'aa'})\n",
    "print('offsets_NoPUNC')\n",
    "print_variable_structure(offsets_NoPUNC)"
   ],
   "metadata": {
    "collapsed": false,
    "pycharm": {
     "name": "#%%\n"
    }
   }
  },
  {
   "cell_type": "code",
   "execution_count": 74,
   "outputs": [
    {
     "name": "stdout",
     "output_type": "stream",
     "text": [
      "offsets_NoPUNC\n",
      "Type: <class 'list'>\n",
      "Shape: 2454\n",
      "Index: 0\n",
      "  Type: <class 'tuple'>\n",
      "  Shape: 3\n",
      "  Index: 0\n",
      "    Type: <class 'int'>\n",
      "tokens_NoPUNC\n",
      "Type: <class 'list'>\n",
      "Shape: 2454\n",
      "Index: 0\n",
      "  Type: <class 'list'>\n",
      "  Shape: 266\n",
      "  Index: 0\n",
      "    Type: <class 'int'>\n",
      "bert_forNoPUNC\n",
      "Type: <class 'list'>\n",
      "Shape: 2454\n",
      "Index: 0\n",
      "  Type: <class 'numpy.ndarray'>\n",
      "  Shape: (1, 266, 768)\n",
      "  Data Type: float32\n",
      "  Index: 0\n",
      "    Type: <class 'numpy.ndarray'>\n",
      "    Shape: (266, 768)\n",
      "    Data Type: float32\n",
      "    Index: 0\n",
      "      Type: <class 'numpy.ndarray'>\n",
      "      Shape: (768,)\n",
      "      Data Type: float32\n",
      "      Index: 0\n",
      "        Type: <class 'numpy.float32'>\n",
      "PROPN_bert\n",
      "Type: <class 'list'>\n",
      "Shape: 2454\n",
      "Index: 0\n",
      "  Type: <class 'numpy.ndarray'>\n",
      "  Shape: (1, 3, 768)\n",
      "  Data Type: float32\n",
      "  Index: 0\n",
      "    Type: <class 'numpy.ndarray'>\n",
      "    Shape: (3, 768)\n",
      "    Data Type: float32\n",
      "    Index: 0\n",
      "      Type: <class 'numpy.ndarray'>\n",
      "      Shape: (768,)\n",
      "      Data Type: float32\n",
      "      Index: 0\n",
      "        Type: <class 'numpy.float32'>\n"
     ]
    }
   ],
   "source": [
    "# train: 2454\n",
    "print('offsets_NoPUNC')\n",
    "print_variable_structure(offsets_NoPUNC)\n",
    "print('tokens_NoPUNC')\n",
    "print_variable_structure(tokens_NoPUNC)\n",
    "print('bert_forNoPUNC')\n",
    "print_variable_structure(bert_forNoPUNC)\n",
    "print('PROPN_bert')\n",
    "print_variable_structure(PROPN_bert)"
   ],
   "metadata": {
    "collapsed": false,
    "pycharm": {
     "name": "#%%\n"
    }
   }
  },
  {
   "cell_type": "code",
   "execution_count": null,
   "outputs": [],
   "source": [
    "test_offsets_NoPUNC = pickle.load(open(base_dir + 'test_offsets_NoPUNC.pkl', \"rb\"))\n",
    "test_tokens_NoPUNC = pickle.load(\n",
    "    open(base_dir + 'test_tokens_NoPUNC_padding.pkl', \"rb\"))  # tokens of every sentence without padding\n",
    "test_bert_forNoPUNC = pickle.load(\n",
    "    open(base_dir + 'test_bert_outputs_forNoPUNC.pkl', \"rb\"))  # list of outputs of bert for every sentence\n",
    "\n",
    "# 目标代词级名称\n",
    "test_PROPN_bert = pickle.load(open(base_dir + 'test_bert_outputs_forPROPN.pkl', \"rb\"))"
   ],
   "metadata": {
    "collapsed": false,
    "pycharm": {
     "name": "#%%\n"
    }
   }
  },
  {
   "cell_type": "code",
   "execution_count": 76,
   "outputs": [
    {
     "name": "stdout",
     "output_type": "stream",
     "text": [
      "test_offsets_NoPUNC\n",
      "Type: <class 'list'>\n",
      "Shape: 2000\n",
      "Index: 0\n",
      "  Type: <class 'tuple'>\n",
      "  Shape: 3\n",
      "  Index: 0\n",
      "    Type: <class 'int'>\n",
      "test_tokens_NoPUNC\n",
      "Type: <class 'list'>\n",
      "Shape: 2000\n",
      "Index: 0\n",
      "  Type: <class 'list'>\n",
      "  Shape: 266\n",
      "  Index: 0\n",
      "    Type: <class 'int'>\n",
      "test_bert_forNoPUNC\n",
      "Type: <class 'list'>\n",
      "Shape: 2000\n",
      "Index: 0\n",
      "  Type: <class 'numpy.ndarray'>\n",
      "  Shape: (1, 266, 768)\n",
      "  Data Type: float32\n",
      "  Index: 0\n",
      "    Type: <class 'numpy.ndarray'>\n",
      "    Shape: (266, 768)\n",
      "    Data Type: float32\n",
      "    Index: 0\n",
      "      Type: <class 'numpy.ndarray'>\n",
      "      Shape: (768,)\n",
      "      Data Type: float32\n",
      "      Index: 0\n",
      "        Type: <class 'numpy.float32'>\n",
      "test_PROPN_bert\n",
      "Type: <class 'list'>\n",
      "Shape: 2000\n",
      "Index: 0\n",
      "  Type: <class 'numpy.ndarray'>\n",
      "  Shape: (1, 3, 768)\n",
      "  Data Type: float32\n",
      "  Index: 0\n",
      "    Type: <class 'numpy.ndarray'>\n",
      "    Shape: (3, 768)\n",
      "    Data Type: float32\n",
      "    Index: 0\n",
      "      Type: <class 'numpy.ndarray'>\n",
      "      Shape: (768,)\n",
      "      Data Type: float32\n",
      "      Index: 0\n",
      "        Type: <class 'numpy.float32'>\n"
     ]
    }
   ],
   "source": [
    "# test: 2000\n",
    "print('test_offsets_NoPUNC')\n",
    "print_variable_structure(test_offsets_NoPUNC)\n",
    "print('test_tokens_NoPUNC')\n",
    "print_variable_structure(test_tokens_NoPUNC)\n",
    "print('test_bert_forNoPUNC')\n",
    "print_variable_structure(test_bert_forNoPUNC)\n",
    "print('test_PROPN_bert')\n",
    "print_variable_structure(test_PROPN_bert)"
   ],
   "metadata": {
    "collapsed": false,
    "pycharm": {
     "name": "#%%\n"
    }
   }
  },
  {
   "cell_type": "code",
   "execution_count": 6,
   "outputs": [
    {
     "name": "stdout",
     "output_type": "stream",
     "text": [
      "[101, 14477, 20961, 3468, 1012, 14477, 20961, 3468, 1012, 102]\n",
      "['[CLS]', 'una', '##ffa', '##ble', '.', 'una', '##ffa', '##ble', '.', '[SEP]']\n",
      "[101, 14477, 20961, 3468, 1012, 14477, 20961, 3468, 1012, 102]\n"
     ]
    }
   ],
   "source": [
    "## TEST\n",
    "# WordpieceTokenizer（以下简称 WPT）是在 BT 结果的基础上进行再一次切分，得到子词（subword，以 ## 开头），词汇表就是在此时引入的。\n",
    "# greedy longest-match-first algorithm，贪婪最长优先匹配算法。\n",
    "# unaffable -分词-> [una, ##ffa, ##ble]\n",
    "print(tokenizer.encode('unaffable.unaffable.'))\n",
    "# [101, 14477, 20961, 3468, 1012, 14477, 20961, 3468, 1012, 102]\n",
    "print(tokenizer.convert_ids_to_tokens([101, 14477, 20961, 3468, 1012, 14477, 20961, 3468, 1012, 102]))\n",
    "# ['[CLS]', 'una', '##ffa', '##ble', '.', 'una', '##ffa', '##ble', '.', '[SEP]']\n",
    "print(tokenizer.convert_tokens_to_ids(['[CLS]', 'una', '##ffa', '##ble', '.', 'una', '##ffa', '##ble', '.', '[SEP]']))\n",
    "# [101, 14477, 20961, 3468, 1012, 14477, 20961, 3468, 1012, 102]"
   ],
   "metadata": {
    "collapsed": false,
    "pycharm": {
     "name": "#%%\n"
    }
   }
  },
  {
   "cell_type": "code",
   "execution_count": 12,
   "outputs": [],
   "source": [
    "# 生成图结构数据\n",
    "def getGraphsData(tokens_NoPUNC, offsets_NoPUNC, PROPN_bert, bert_forNoPUNC):\n",
    "    '''\n",
    "    \n",
    "    Args:\n",
    "        tokens_NoPUNC:  2454,266\n",
    "        offsets_NoPUNC: 2454,3\n",
    "        PROPN_bert:     2454,1,3,768\n",
    "        bert_forNoPUNC: 2454,1,266,768\n",
    "\n",
    "    Returns:\n",
    "        all_graphs: 包含A B P及与它们直接相连的单词的子图\n",
    "        gcn_offsets: A B P在子图中的单词节点对应的索引\n",
    "    '''\n",
    "    \n",
    "    # 2454\n",
    "    assert len(tokens_NoPUNC) == len(offsets_NoPUNC) == len(PROPN_bert) == len(bert_forNoPUNC)\n",
    "    # 266=269-3. cod_16: max_len = 269  # 设置处理文本的最大长度\n",
    "    assert len(tokens_NoPUNC[0]) == len(bert_forNoPUNC[0][0])\n",
    "    assert len(offsets_NoPUNC[0]) == len(PROPN_bert[0][0]) == 3\n",
    "    # 101: [CLS]  102: [SEP]  103: [MASK]\n",
    "\n",
    "    all_graphs = []\n",
    "    gcn_offsets = []\n",
    "    for i, sent_token in enumerate(tokens_NoPUNC):\n",
    "\n",
    "        SEPid = sent_token.index(tokenizer.convert_tokens_to_ids('[SEP]'))\n",
    "\n",
    "        # 去掉所有#。不能用tokenizer.decode()，因为它会将字词合并导致offset错误\n",
    "        sent = ' '.join([re.sub(\"[#]\", \"\", token) for token in tokenizer.convert_ids_to_tokens(sent_token[1:SEPid])])\n",
    "\n",
    "        doc = parser(sent)  # 将句子切分成单词，英文中一般使用空格分隔\n",
    "        parse_rst = doc.to_json()  # 获得句子中各个单词间的依存关系树\n",
    "\n",
    "        target_offset_list = [item - 1 for item in offsets_NoPUNC[i]]  # 所有的偏移都去掉一个（[CLS]）\n",
    "\n",
    "        nodes = collections.OrderedDict()  # 带有顺序的字典 key为句子中的id，value为节点的真实索引\n",
    "        edges = []\n",
    "        edge_type = []\n",
    "\n",
    "        #  通过  parse_rst['tokens'][69]可以看到详细信息\n",
    "        # 解析依存关系\n",
    "        for i_word, word in enumerate(parse_rst['tokens']):\n",
    "            # 生成的图中，找到代词节点以及对应的边\n",
    "            if (i_word in target_offset_list) or (word['head'] in target_offset_list):\n",
    "                if i_word not in nodes:\n",
    "                    nodes[i_word] = len(nodes)  # 添加依存关系节点\n",
    "                    edges.append([i_word, i_word])  # 为节点添加自环\n",
    "                    edge_type.append(0)  # 自环关系的索引为0\n",
    "                if word['head'] not in nodes:\n",
    "                    nodes[word['head']] = len(nodes)  # 添加依存关系节点\n",
    "                    edges.append([word['head'], word['head']])  # 为节点添加自环\n",
    "                    edge_type.append(0)\n",
    "\n",
    "                # 依存关系\n",
    "                if word['dep'] != 'ROOT':\n",
    "                    edges.append([word['head'], word['id']])  # 添加依存关系边（head_id -> word_id）\n",
    "                    edge_type.append(1)  # 依存关系的索引为1\n",
    "                    edges.append([word['id'], word['head']])  # 添加反向依存关系边（head_id <- word_id）\n",
    "                    edge_type.append(2)  # 反向依存关系的索引为2\n",
    "\n",
    "        # word_id -> node_id，两种id并不一致\n",
    "        tran_edges = []\n",
    "        for e1, e2 in edges:  # 将句子中的边，换成节点间的边\n",
    "            tran_edges.append([nodes[e1], nodes[e2]])\n",
    "        # 将句子中的代词位置，换成节点中的代词索引\n",
    "        gcn_offset = [nodes[offset] for offset in target_offset_list]\n",
    "        gcn_offsets.append(gcn_offset)  # 将代词、名称A、名称B对应图中节点的索引保存起来\n",
    "\n",
    "        # 生成DGL图数据\n",
    "        G = dgl.DGLGraph()\n",
    "        G.add_nodes(len(nodes))  # 生成DGL节点\n",
    "        G.add_edges(list(zip(*tran_edges))[0], list(zip(*tran_edges))[1])\n",
    "        # 给每个节点添加特征属性\n",
    "        for i_word, word in nodes.items():\n",
    "            if (i_word in target_offset_list):  # 从PROPN_bert中获取代词、名称A、名称B的特征\n",
    "                G.nodes[[nodes[i_word]]].data['h'] = torch.from_numpy(\n",
    "                    PROPN_bert[i][0][target_offset_list.index(i_word)]).unsqueeze(0).to(device)\n",
    "            else:  # bert_forNoPUNC中获取其它词的特征\n",
    "                # +1 是因为 [CLS] 特殊标记\n",
    "                G.nodes[[nodes[i_word]]].data['h'] = torch.from_numpy(\n",
    "                    bert_forNoPUNC[i][0][i_word + 1]).unsqueeze(0).to(device)\n",
    "\n",
    "        edge_norm = []  # 边归一化算子（计算均值时的分母）\n",
    "        # e1 -> e2\n",
    "        for e1, e2 in tran_edges:\n",
    "            if e1 == e2:\n",
    "                edge_norm.append(1)  # 如果是自环边，则归一化算子为1。自环边的权重占1/(1+1)？\n",
    "            else:  # 如果是非自环边，则归一化算子为1除以去掉自环的度\n",
    "                edge_norm.append(1 / (G.in_degrees(e2) - 1))  # 去掉自环的度\n",
    "\n",
    "        # 将类型转为张量\n",
    "        edge_type = torch.from_numpy(np.array(edge_type)).type(torch.long)  # uint8 会导致错误\n",
    "        edge_norm = torch.from_numpy(np.array(edge_norm)).unsqueeze(1).float().to(device)\n",
    "\n",
    "        G.edata.update({'rel_type': edge_type, })  # 更新边类型\n",
    "        G.edata.update({'norm': edge_norm}) # 边归一化算子\n",
    "        all_graphs.append(G)  # 保存子图\n",
    "\n",
    "    return all_graphs, gcn_offsets\n",
    "\n",
    "\n",
    "def getLabelData(df):  # 生成标签\n",
    "    tmp = df[[\"A-coref\", \"B-coref\"]].copy()\n",
    "    tmp[\"Neither\"] = ~(df[\"A-coref\"] | df[\"B-coref\"])  # 添加一个列（A和B都不指代的情况）\n",
    "    # 0: A-coref, 1: B-coref, 2: Neither\n",
    "    y = tmp.values.astype(\"bool\").argmax(1)  # 变成one-hot索引\n",
    "    return y\n"
   ],
   "metadata": {
    "collapsed": false,
    "pycharm": {
     "name": "#%%\n"
    }
   }
  },
  {
   "cell_type": "code",
   "execution_count": 8,
   "outputs": [],
   "source": [
    "\n",
    "# 构建数据集\n",
    "class GPRDataset(Dataset):\n",
    "    def __init__(self, y, graphs, bert_offsets, gcn_offsets, bert_embeddings):\n",
    "        self.y = y\n",
    "        self.graphs = graphs\n",
    "        self.bert_offsets = bert_offsets  # 已经+1了\n",
    "        self.bert_embeddings = bert_embeddings  # 有[CLS]\n",
    "        self.gcn_offsets = gcn_offsets\n",
    "\n",
    "    def __len__(self):\n",
    "        return len(self.graphs)\n",
    "\n",
    "    def __getitem__(self, idx):\n",
    "        return (self.graphs[idx], self.bert_offsets[idx], self.gcn_offsets[idx],\n",
    "                self.bert_embeddings[idx], self.y[idx])\n",
    "\n",
    "\n",
    "def collate(samples):  # 对 GPRDataset.__getitem__ 得到的批次数据重新加工\n",
    "    #    print(len(samples))#数组。个数是4（batch_size），\n",
    "\n",
    "    # 行列转换变成list\n",
    "    graphs, bert_offsets, gcn_offsets, bert_embeddings, labels = map(list, zip(*samples))\n",
    "    # 批次图方法，使GPU并行计算\n",
    "    batched_graph = dgl.batch(graphs)  # 对图数据进行按批次重组 !!!批次介绍！！\n",
    "    # 对其它数据进行张量转化\n",
    "    offsets_bert = torch.stack([torch.LongTensor(x) for x in bert_offsets], dim=0)\n",
    "    offsets_gcn = torch.stack([torch.LongTensor(x) for x in gcn_offsets], dim=0)\n",
    "    one_hot_labels = torch.from_numpy(np.asarray(labels)).type(torch.long)  # .squeeze()#必须要用long\n",
    "    bert_embeddings = torch.from_numpy(np.asarray(bert_embeddings))\n",
    "\n",
    "    return batched_graph, offsets_bert, offsets_gcn, bert_embeddings, one_hot_labels\n"
   ],
   "metadata": {
    "collapsed": false,
    "pycharm": {
     "name": "#%%\n"
    }
   }
  },
  {
   "cell_type": "code",
   "execution_count": 13,
   "outputs": [
    {
     "name": "stderr",
     "output_type": "stream",
     "text": [
      "D:\\ProgramData\\Anaconda3\\envs\\latest\\lib\\site-packages\\dgl\\heterograph.py:93: DGLWarning: Recommend creating graphs by `dgl.graph(data)` instead of `dgl.DGLGraph(data)`.\n",
      "  \"Recommend creating graphs by `dgl.graph(data)`\"\n"
     ]
    }
   ],
   "source": [
    "\n",
    "# 将训练数据集转化为图数据\n",
    "all_graphs, gcn_offsets = getGraphsData(tokens_NoPUNC, offsets_NoPUNC, PROPN_bert, bert_forNoPUNC)\n",
    "train_y = getLabelData(df_train_val)  # 获取训练数据集的标签\n",
    "\n",
    "# 将测试数据集转化为图数据\n",
    "test_all_graphs, test_gcn_offsets = getGraphsData(test_tokens_NoPUNC, test_offsets_NoPUNC,\n",
    "                                                  test_PROPN_bert, test_bert_forNoPUNC)\n",
    "test_y = getLabelData(df_test)  # 获取测试数据集的标签\n",
    "# 生成测试数据集\n",
    "test_dataset = GPRDataset(test_y, test_all_graphs, test_offsets_NoPUNC, test_gcn_offsets, test_PROPN_bert)\n",
    "# 生成测试数据集的加载器\n",
    "test_dataloarder = DataLoader(test_dataset, collate_fn=collate, batch_size=4)"
   ],
   "metadata": {
    "collapsed": false,
    "pycharm": {
     "name": "#%%\n"
    }
   }
  },
  {
   "cell_type": "code",
   "execution_count": 14,
   "outputs": [],
   "source": [
    "# 构建模型\n",
    "\n",
    "class RGCNModel(nn.Module):  # 多层R-GCN模型\n",
    "    def __init__(self, h_dim, num_rels, out_dim=256, num_hidden_layers=1):\n",
    "        super(RGCNModel, self).__init__()\n",
    "\n",
    "        self.layers = nn.ModuleList()  # 定义网络层列表\n",
    "\n",
    "        for _ in range(num_hidden_layers):\n",
    "            rgcn_layer = RelGraphConv(h_dim, out_dim, num_rels, activation=F.relu)\n",
    "            self.layers.append(rgcn_layer)\n",
    "\n",
    "    def forward(self, g):\n",
    "        # 逐层处理\n",
    "        for layer in self.layers:\n",
    "            g.ndata['h'] = layer(g, g.ndata['h'].to(device), etypes=g.edata['rel_type'].to(device),\n",
    "                                 norm=g.edata['norm'].to(device))\n",
    "\n",
    "        rst_hidden = []\n",
    "        for sub_g in dgl.unbatch(g):  # 按批次解包\n",
    "            rst_hidden.append(sub_g.ndata['h'])\n",
    "        return rst_hidden\n",
    "\n",
    "\n",
    "# Design the Main Model (R-GCN + FFNN)\n",
    "class BERT_Head(nn.Module):\n",
    "    def __init__(self, bert_hidden_size: int):\n",
    "        super().__init__()\n",
    "        self.fc = nn.Sequential(\n",
    "            nn.BatchNorm1d(bert_hidden_size * 3),\n",
    "            nn.Dropout(0.5),\n",
    "            nn.Linear(bert_hidden_size * 3, 512 * 3),\n",
    "            nn.ReLU(),\n",
    "        )\n",
    "\n",
    "        for i, module in enumerate(self.fc):\n",
    "            if isinstance(module, (nn.BatchNorm1d, nn.BatchNorm2d)):\n",
    "                nn.init.constant_(module.weight, 1)\n",
    "                nn.init.constant_(module.bias, 0)\n",
    "            elif isinstance(module, nn.Linear):\n",
    "                if getattr(module, \"weight_v\", None) is not None:\n",
    "                    nn.init.uniform_(module.weight_g, 0, 1)\n",
    "                    nn.init.kaiming_normal_(module.weight_v)\n",
    "                    assert model[i].weight_g is not None\n",
    "                else:\n",
    "                    nn.init.kaiming_normal_(module.weight)\n",
    "                nn.init.constant_(module.bias, 0)\n",
    "\n",
    "    def forward(self, bert_embeddings):\n",
    "        # print('BERT_Head bert_embeddings: ', bert_embeddings, bert_embeddings.view(bert_embeddings.shape[0],-1).shape)\n",
    "        outputs = self.fc(bert_embeddings.view(bert_embeddings.shape[0], -1))\n",
    "        return outputs\n",
    "\n",
    "\n",
    "class Head(nn.Module):\n",
    "    \"\"\"The MLP submodule\"\"\"\n",
    "\n",
    "    def __init__(self, gcn_out_size: int, bert_out_size: int):\n",
    "        super().__init__()\n",
    "        self.bert_out_size = bert_out_size\n",
    "        self.gcn_out_size = gcn_out_size\n",
    "\n",
    "        self.fc = nn.Sequential(\n",
    "            nn.BatchNorm1d(bert_out_size * 3 + gcn_out_size * 3),\n",
    "            nn.Dropout(0.5),\n",
    "            nn.Linear(bert_out_size * 3 + gcn_out_size * 3, 256),\n",
    "            nn.ReLU(),\n",
    "            nn.BatchNorm1d(256),\n",
    "            nn.Dropout(0.5),\n",
    "            nn.Linear(256, 3),\n",
    "        )\n",
    "        for i, module in enumerate(self.fc):\n",
    "            if isinstance(module, (nn.BatchNorm1d, nn.BatchNorm2d)):\n",
    "                nn.init.constant_(module.weight, 1)\n",
    "                nn.init.constant_(module.bias, 0)\n",
    "            elif isinstance(module, nn.Linear):\n",
    "                if getattr(module, \"weight_v\", None) is not None:\n",
    "                    nn.init.uniform_(module.weight_g, 0, 1)\n",
    "                    nn.init.kaiming_normal_(module.weight_v)\n",
    "                    assert model[i].weight_g is not None\n",
    "                else:\n",
    "                    nn.init.kaiming_normal_(module.weight)\n",
    "                nn.init.constant_(module.bias, 0)\n",
    "\n",
    "    def forward(self, gcn_outputs, offsets_gcn, bert_embeddings):\n",
    "        '''\n",
    "        \n",
    "        Args:\n",
    "            gcn_outputs: \n",
    "            offsets_gcn:        用来从gcn_outputs中提取ABP的表示\n",
    "            bert_embeddings: \n",
    "\n",
    "        Returns:\n",
    "\n",
    "        '''\n",
    "        gcn_extracted_outputs = [gcn_outputs[i].unsqueeze(0).gather(1, offsets_gcn[i].unsqueeze(0).unsqueeze(2)\n",
    "                                                                    .expand(-1, -1,\n",
    "                                                                            gcn_outputs[i].unsqueeze(0).size(2))).view(\n",
    "            gcn_outputs[i].unsqueeze(0).size(0), -1) for i in range(len(gcn_outputs))]\n",
    "\n",
    "        gcn_extracted_outputs = torch.stack(gcn_extracted_outputs, dim=0).squeeze()\n",
    "\n",
    "        embeddings = torch.cat((gcn_extracted_outputs, bert_embeddings), 1)\n",
    "\n",
    "        return self.fc(embeddings)\n",
    "\n",
    "\n",
    "class GPRModel(nn.Module):\n",
    "    \"\"\"The main model.\"\"\"\n",
    "\n",
    "    def __init__(self):\n",
    "        super().__init__()\n",
    "        self.RGCN = RGCNModel(h_dim=768, out_dim=256, num_rels=3)\n",
    "        self.BERThead = BERT_Head(768)  # bert output size\n",
    "        self.head = Head(256, 512)  # gcn output   berthead output\n",
    "\n",
    "    # offsets_bert 未被使用\n",
    "    def forward(self, offsets_bert, offsets_gcn, bert_embeddings, g):\n",
    "        '''\n",
    "        \n",
    "        Args:\n",
    "            offsets_bert: not used\n",
    "            offsets_gcn: \n",
    "            bert_embeddings: \n",
    "            g: \n",
    "\n",
    "        Returns:\n",
    "\n",
    "        '''\n",
    "        gcn_outputs = self.RGCN(g)\n",
    "        bert_head_outputs = self.BERThead(bert_embeddings)\n",
    "        head_outputs = self.head(gcn_outputs, offsets_gcn, bert_head_outputs)\n",
    "        return head_outputs\n",
    "\n"
   ],
   "metadata": {
    "collapsed": false,
    "pycharm": {
     "name": "#%%\n"
    }
   }
  },
  {
   "cell_type": "code",
   "execution_count": 18,
   "outputs": [],
   "source": [
    "\n",
    "def adjust_learning_rate(optimizers, epoch, lr_value):\n",
    "    if epoch < 10:\n",
    "        # warm up\n",
    "        lr_tmp = 0.00001\n",
    "    else:\n",
    "        # 随着 epoch 的增加而降低学习率，0.9 是一个指数项，控制学习率下降的速度。\n",
    "        lr_tmp = lr_value * pow(1 - 1.0 * epoch / 100, 0.9)\n",
    "    if epoch > 36:\n",
    "        # 神奇，跟lr_value无关了\n",
    "        lr_tmp = 0.000015 * pow(1 - 1.0 * epoch / 100, 0.9)\n",
    "    for optimizer in optimizers:\n",
    "        for param_group in optimizer.param_groups:\n",
    "            param_group['lr'] = lr_tmp\n",
    "    return lr_tmp\n",
    "\n",
    "\n",
    "def trainmodel(train_dataloarder, val_dataloarder, model, loss_func, optimizer, lr_value):\n",
    "    reg_lambda = 0.035\n",
    "    # total_epoch = 100\n",
    "    total_epoch = 10\n",
    "    best_val_loss = 11\n",
    "    # Cross-Entropy\n",
    "    ce_losses = []\n",
    "    epoch_losses = []\n",
    "    val_losses = []\n",
    "    val_acclist = []\n",
    "    for epoch in range(total_epoch):\n",
    "\n",
    "        if epoch % 5 == 0:\n",
    "            print('|', \">\" * epoch, \" \" * (total_epoch - epoch), '|')\n",
    "\n",
    "        lr = adjust_learning_rate([optimizer], epoch, lr_value)\n",
    "        print(\"Learning rate = %4f\\n\" % lr)\n",
    "        model.train()\n",
    "        epoch_loss = 0\n",
    "        reg_loss = 0\n",
    "        ce_loss = 0\n",
    "        # collate的返回值\n",
    "        for iter, (batched_graph, offsets_bert, offsets_gcn, bert_embeddings, labels) in enumerate(train_dataloarder):\n",
    "            # offsets_bert: torch.Size([4, 3]) ABP这3个单词的索引\n",
    "            # torch.Size([4, 1, 3, 768]) ABP这3个单词的BERT\n",
    "            bert_embeddings = bert_embeddings.to(device)\n",
    "            # torch.Size([4]) tensor([0, 0, 0, 2])\n",
    "            labels = labels.to(device)\n",
    "            # torch.Size([4, 3]) ABP在子图中的节点编号 tensor([[0, 2, 5], [0, 2, 5], [1, 4, 7], [1, 6, 8]])\n",
    "            offsets_gcn = offsets_gcn.to(device)\n",
    "            # batched_graph g.batch_size 4,g.batch_num_nodes [6, 6, 8, 6],g.batch_num_edges[12, 14, 20, 16]\n",
    "            # torch.Size([4, 3]) 分类为0 1 2 的得分值\n",
    "            prediction = model(offsets_bert, offsets_gcn, bert_embeddings, batched_graph)\n",
    "            \n",
    "            # 在损失函数中添加正则化项，惩罚模型的权重，从而防止过拟合。对权重向量中的每个元素的平方求和后取平方根。\n",
    "            # 有些文献和实验中使用平方 L2 正则化，有些则使用 L2 范数的平方根。两者之间的差异通常是微小的，而不取平方根可以简化计算。\n",
    "            # l2_reg = None\n",
    "            # for w in model.RGCN.parameters():\n",
    "            #     if not l2_reg:\n",
    "            #         l2_reg = w.norm(2)\n",
    "            #     else:\n",
    "            #         l2_reg = l2_reg + w.norm(2)\n",
    "            # for w in model.head.parameters():\n",
    "            #     if not l2_reg:\n",
    "            #         l2_reg = w.norm(2)\n",
    "            #     else:\n",
    "            #         l2_reg = l2_reg + w.norm(2)\n",
    "            # for w in model.BERThead.parameters():\n",
    "            #     if not l2_reg:\n",
    "            #         l2_reg = w.norm(2)\n",
    "            #     else:\n",
    "            #         l2_reg = l2_reg + w.norm(2)\n",
    "            l2_reg = sum(w.norm(2) for w in list(model.RGCN.parameters()) + list(model.head.parameters()) + list(model.BERThead.parameters()))\n",
    "            loss = loss_func(prediction, labels) + l2_reg * reg_lambda\n",
    "            # loss = loss_func(prediction, labels)\n",
    "\n",
    "            optimizer.zero_grad()\n",
    "            loss.backward()\n",
    "            optimizer.step()\n",
    "\n",
    "            ###########################\n",
    "            epoch_loss += loss.detach().item()\n",
    "            reg_loss += (l2_reg * reg_lambda).detach().item()\n",
    "            ce_loss += (loss_func(prediction, labels)).detach().item()\n",
    "        epoch_loss /= (iter + 1)\n",
    "        ce_loss /= (iter + 1)\n",
    "        reg_loss /= (iter + 1)\n",
    "        print('Epoch {}, loss {:.4f}, ce_loss {:.4f}, reg_loss {:.4f}'.format(epoch, epoch_loss, ce_loss, reg_loss))\n",
    "        print('Epoch {}, loss {:.4f}'.format(epoch, epoch_loss))\n",
    "        epoch_losses.append(epoch_loss)\n",
    "        ce_losses.append(ce_loss)\n",
    "        ##################################\n",
    "\n",
    "        val_loss = 0\n",
    "        model.eval()\n",
    "        val_accs = []\n",
    "        for iter, (batched_graph, offsets_bert, offsets_gcn, bert_embeddings, labels) in enumerate(val_dataloarder):\n",
    "            offsets_gcn = offsets_gcn.to(device)\n",
    "            bert_embeddings = bert_embeddings.to(device)\n",
    "            labelsgpu = labels.to(device)\n",
    "            with torch.no_grad():\n",
    "                prediction = model(offsets_bert, offsets_gcn, bert_embeddings, batched_graph)\n",
    "            loss = loss_func(prediction, labelsgpu)\n",
    "            val_loss += loss.detach().item()\n",
    "            # 调库计算正确率\n",
    "            val_acc = metrics.accuracy_score(labels, torch.argmax(prediction, -1).cpu().numpy())\n",
    "            val_accs.append(val_acc)\n",
    "\n",
    "        val_loss = val_loss / (iter + 1)\n",
    "        val_losses.append(val_loss)\n",
    "        val_acclist.append(np.mean(val_accs))\n",
    "\n",
    "        if epoch % 20 == 0:\n",
    "            print('Epoch {}, val_loss {:.4f}, val_acc {:.4f}'.format(epoch,\n",
    "                                                                     val_loss, np.mean(val_accs)))\n",
    "\n",
    "        if val_loss < best_val_loss:\n",
    "            best_val_loss = val_loss\n",
    "            if epoch > 20:\n",
    "                torch.save(model.state_dict(), base_dir + 'best_model.pth')\n",
    "            if epoch > 36: print('Best val loss found: ', best_val_loss)\n",
    "\n",
    "        ################\n",
    "        print('Epoch {}, val_loss {:.4f}, val_acc {:.4f}'.format(epoch,\n",
    "                                                                 val_loss, np.mean(val_accs)))\n",
    "\n",
    "        if val_loss < best_val_loss:\n",
    "            best_val_loss = val_loss\n",
    "\n",
    "    #########################\n",
    "    print('This fold, the best val loss is: ', best_val_loss)\n",
    "    return ce_losses, val_losses, val_acclist\n",
    "\n"
   ],
   "metadata": {
    "collapsed": false,
    "pycharm": {
     "name": "#%%\n"
    }
   }
  },
  {
   "cell_type": "code",
   "execution_count": 86,
   "outputs": [
    {
     "name": "stdout",
     "output_type": "stream",
     "text": [
      "====================\n",
      "Fold 1\n",
      "====================\n",
      "Dataloader Success---------------------\n",
      "|                                                                                   |\n",
      "Learning rate = 0.000010\n",
      "\n",
      "Epoch 0, loss 10.3303, ce_loss 2.0626, reg_loss 8.2677\n",
      "Epoch 0, loss 10.3303\n",
      "Epoch 0, val_loss 1.3484, val_acc 0.4121\n",
      "Epoch 0, val_loss 1.3484, val_acc 0.4121\n",
      "This fold, the best val loss is:  1.348385441672142\n"
     ]
    },
    {
     "data": {
      "text/plain": "<Figure size 640x480 with 1 Axes>",
      "image/png": "[encoded data removed]"
     },
     "metadata": {},
     "output_type": "display_data"
    },
    {
     "name": "stdout",
     "output_type": "stream",
     "text": [
      "This fold, the test loss is:  tensor(0.5651)  acc is  0.7665\n",
      "====================\n",
      "Fold 2\n",
      "====================\n",
      "Dataloader Success---------------------\n",
      "|                                                                                   |\n",
      "Learning rate = 0.000010\n",
      "\n",
      "Epoch 0, loss 10.2131, ce_loss 1.9473, reg_loss 8.2658\n",
      "Epoch 0, loss 10.2131\n",
      "Epoch 0, val_loss 1.2069, val_acc 0.4023\n",
      "Epoch 0, val_loss 1.2069, val_acc 0.4023\n",
      "This fold, the best val loss is:  1.2068971662936847\n"
     ]
    },
    {
     "data": {
      "text/plain": "<Figure size 640x480 with 1 Axes>",
      "image/png": "[encoded data removed]"
     },
     "metadata": {},
     "output_type": "display_data"
    },
    {
     "name": "stdout",
     "output_type": "stream",
     "text": [
      "This fold, the test loss is:  tensor(0.5651)  acc is  0.7665\n"
     ]
    }
   ],
   "source": [
    "\n",
    "# 5 fold\n",
    "\n",
    "# kfold = StratifiedKFold(n_splits=5)\n",
    "kfold = StratifiedKFold(n_splits=2)\n",
    "\n",
    "\n",
    "def getdataloader(index, isshuffle=False):\n",
    "    dataset = GPRDataset(train_y[index],\n",
    "                         list(itemgetter(*index)(all_graphs)),\n",
    "                         list(itemgetter(*index)(offsets_NoPUNC)),\n",
    "                         list(itemgetter(*index)(gcn_offsets)),\n",
    "                         list(itemgetter(*index)(PROPN_bert)))\n",
    "    dataloarder = DataLoader(dataset, collate_fn=collate,\n",
    "                             batch_size=4, shuffle=isshuffle)\n",
    "\n",
    "    return dataloarder\n",
    "\n",
    "\n",
    "\n",
    "test_predict_lst = []  # the test output for every fold\n",
    "for train_index, val_index in kfold.split(df_train_val, train_y):  # 循环5次\n",
    "    print(\"=\" * 20)\n",
    "    print(f\"Fold {len(test_predict_lst) + 1}\")\n",
    "    print(\"=\" * 20)\n",
    "\n",
    "    val_dataloarder = getdataloader(val_index)\n",
    "    train_dataloarder = getdataloader(train_index, True)\n",
    "    print('Dataloader Success---------------------')\n",
    "\n",
    "    model = GPRModel().to(device)\n",
    "    loss_func = nn.CrossEntropyLoss()\n",
    "    lr_value = 0.0001\n",
    "    optimizer = optim.Adam(model.parameters(), lr=lr_value)\n",
    "    # ce: CrossEntropy 内含训练+验证、model.train()\n",
    "    ce_losses, val_losses, val_accs = trainmodel(train_dataloarder,\n",
    "                                                 val_dataloarder,\n",
    "                                                 model, loss_func, optimizer, lr_value)\n",
    "\n",
    "    plt.figure()\n",
    "    plt.plot(ce_losses, label='CE_loss')\n",
    "    plt.plot(val_losses, label='Val_loss')\n",
    "    plt.plot(val_accs, label='Val_acc')\n",
    "    plt.legend()  # 添加图例\n",
    "    plt.show()\n",
    "\n",
    "    # 测试\n",
    "    test_loss = 0.\n",
    "    test_predict = None\n",
    "    model.load_state_dict(torch.load(base_dir + 'best_model.pth'))\n",
    "    model.to(device)\n",
    "    model.eval()\n",
    "    for iter, (batched_graph, offsets_bert, offsets_gcn, bert_embeddings,\n",
    "               labels) in enumerate(test_dataloarder):\n",
    "\n",
    "        offsets_gcn = offsets_gcn.to(device)\n",
    "        bert_embeddings = bert_embeddings.to(device)\n",
    "        labels = labels.to(device)\n",
    "        with torch.no_grad():\n",
    "            prediction = model(offsets_bert, offsets_gcn, bert_embeddings, batched_graph)\n",
    "\n",
    "        if test_predict is None:\n",
    "            test_predict = prediction\n",
    "        else:\n",
    "            test_predict = torch.cat((test_predict, prediction), 0)\n",
    "        loss = loss_func(prediction, labels)\n",
    "        test_loss += loss\n",
    "\n",
    "    acc = metrics.accuracy_score(test_y, torch.argmax(test_predict, -1).cpu().numpy())\n",
    "    test_loss /= (iter + 1)\n",
    "    print('This fold, the test loss is: ', test_loss, \" acc is \", acc)\n",
    "    test_predict_lst.append(test_predict)\n"
   ],
   "metadata": {
    "collapsed": false,
    "pycharm": {
     "name": "#%%\n"
    }
   }
  },
  {
   "cell_type": "code",
   "execution_count": 82,
   "outputs": [
    {
     "name": "stdout",
     "output_type": "stream",
     "text": [
      "test_predict_lst\n",
      "Type: <class 'list'>\n",
      "Shape: 5\n",
      "Index: 0\n",
      "  Type: <class 'torch.Tensor'>\n",
      "  Shape: torch.Size([2000, 3])\n",
      "  Data Type: torch.float32\n",
      "  Index: 0\n",
      "    Type: <class 'torch.Tensor'>\n",
      "    Shape: torch.Size([3])\n",
      "    Data Type: torch.float32\n",
      "    Index: 0\n",
      "      Type: <class 'torch.Tensor'>\n",
      "      Shape: torch.Size([])\n",
      "      Data Type: torch.float32\n",
      "tensor([1.4402, 0.3232, 0.1801])\n",
      "train_y\n",
      "Type: <class 'numpy.ndarray'>\n",
      "Shape: (2454,)\n",
      "Data Type: int64\n",
      "Index: 0\n",
      "  Type: <class 'numpy.int64'>\n",
      "[1 0 0 1 0]\n"
     ]
    }
   ],
   "source": [
    "## Test\n",
    "print('test_predict_lst')\n",
    "# (5,2000,3) 3独热的分类得分，需要softmax\n",
    "print_variable_structure(test_predict_lst)\n",
    "print(test_predict_lst[0][0])\n",
    "print('train_y')\n",
    "# (2454,)\n",
    "print_variable_structure(train_y)\n",
    "print(train_y[:5])"
   ],
   "metadata": {
    "collapsed": false,
    "pycharm": {
     "name": "#%%\n"
    }
   }
  },
  {
   "cell_type": "code",
   "execution_count": 94,
   "outputs": [],
   "source": [
    "# Test Part\n",
    "test_predict_arr = [torch.softmax(pre.cpu(), -1).clamp(1e-4, 1 - 1e-4).numpy() for pre in test_predict_lst]\n",
    "# 求k fold得到的 k 个概率的均值\n",
    "final_test_preds = np.mean(test_predict_arr, axis=0)"
   ],
   "metadata": {
    "collapsed": false,
    "pycharm": {
     "name": "#%%\n"
    }
   }
  },
  {
   "cell_type": "code",
   "execution_count": 95,
   "outputs": [
    {
     "name": "stdout",
     "output_type": "stream",
     "text": [
      "test_predict_arr\n",
      "Type: <class 'list'>\n",
      "Shape: 2\n",
      "Index: 0\n",
      "  Type: <class 'numpy.ndarray'>\n",
      "  Shape: (2000, 3)\n",
      "  Data Type: float32\n",
      "  Index: 0\n",
      "    Type: <class 'numpy.ndarray'>\n",
      "    Shape: (3,)\n",
      "    Data Type: float32\n",
      "    Index: 0\n",
      "      Type: <class 'numpy.float32'>\n",
      "[0.6207685  0.20315523 0.1760763 ]\n",
      "[0.6207685  0.20315523 0.1760763 ]\n",
      "final_test_preds\n",
      "Type: <class 'numpy.ndarray'>\n",
      "Shape: (2000, 3)\n",
      "Data Type: float32\n",
      "Index: 0\n",
      "  Type: <class 'numpy.ndarray'>\n",
      "  Shape: (3,)\n",
      "  Data Type: float32\n",
      "  Index: 0\n",
      "    Type: <class 'numpy.float32'>\n",
      "[0.6207685  0.20315523 0.1760763 ]\n"
     ]
    }
   ],
   "source": [
    "print('test_predict_arr')\n",
    "# (k, 2000, 3)\n",
    "print_variable_structure(test_predict_arr)\n",
    "# 不同折的测试结果竟然相等!\n",
    "# [0.6207685  0.20315523 0.1760763 ]\n",
    "print(test_predict_arr[0][0])\n",
    "print(test_predict_arr[1][0])\n",
    "\n",
    "print('final_test_preds')\n",
    "# (2000, 3)\n",
    "print_variable_structure(final_test_preds)\n",
    "# [0.6207685  0.20315523 0.1760763 ]\n",
    "print(final_test_preds[0])"
   ],
   "metadata": {
    "collapsed": false,
    "pycharm": {
     "name": "#%%\n"
    }
   }
  },
  {
   "cell_type": "code",
   "execution_count": 97,
   "outputs": [],
   "source": [
    "\n",
    "def extract_target(df):\n",
    "    df[\"Neither\"] = 0\n",
    "    df.loc[~(df['A-coref'] | df['B-coref']), \"Neither\"] = 1\n",
    "\n",
    "    df[\"target\"] = 0\n",
    "    df.loc[df['B-coref'] == 1, \"target\"] = 1\n",
    "    df.loc[df[\"Neither\"] == 1, \"target\"] = 2\n",
    "    return df\n",
    "\n",
    "# target 是正确结果，取值为 0 1 2\n",
    "test_df = extract_target(df_test)\n",
    "log_loss(test_df.target, final_test_preds)\n",
    "\n",
    "# result 是预测结果，取值为 0 1 2\n",
    "result = np.argmax(final_test_preds, -1).reshape(len(final_test_preds), 1)\n",
    "\n",
    "# 保存结果\n",
    "df_sub = pd.DataFrame(np.concatenate([final_test_preds, result], -1), columns=[\"A\", \"B\", \"NEITHER\", 'result'])\n",
    "df_sub[\"ID\"] = test_df.ID\n",
    "df_sub[\"target\"] = test_df[\"target\"]\n",
    "df_sub = df_sub[['ID', \"A\", \"B\", \"NEITHER\", \"result\", \"target\"]]\n",
    "df_sub.to_csv(base_dir + \"submission_415_copy3.csv\", index=False)\n",
    "\n",
    "acc = metrics.accuracy_score(test_df[\"target\"].values, np.argmax(final_test_preds, -1))"
   ],
   "metadata": {
    "collapsed": false,
    "pycharm": {
     "name": "#%%\n"
    }
   }
  },
  {
   "cell_type": "code",
   "execution_count": 104,
   "outputs": [
    {
     "name": "stdout",
     "output_type": "stream",
     "text": [
      "test_df.target\n",
      "Type: <class 'pandas.core.series.Series'>\n",
      "Attributes: ['_is_copy', '_mgr', '_item_cache', '_attrs', '_flags', '_name', '_index', '_cacher']\n",
      "Attribute: _is_copy\n",
      "  Type: <class 'NoneType'>\n",
      "0    0\n",
      "1    0\n",
      "2    1\n",
      "3    1\n",
      "4    1\n",
      "Name: target, dtype: int64\n",
      "result\n",
      "Type: <class 'numpy.ndarray'>\n",
      "Shape: (2000, 1)\n",
      "Data Type: int64\n",
      "Index: 0\n",
      "  Type: <class 'numpy.ndarray'>\n",
      "  Shape: (1,)\n",
      "  Data Type: int64\n",
      "  Index: 0\n",
      "    Type: <class 'numpy.int64'>\n",
      "[[0]\n",
      " [0]\n",
      " [1]\n",
      " [1]\n",
      " [1]]\n",
      "df_sub\n",
      "                ID         A         B   NEITHER  result  target\n",
      "0    development-1  0.620768  0.203155  0.176076     0.0       0\n",
      "1    development-2  0.949732  0.014193  0.036075     0.0       0\n",
      "2    development-3  0.020058  0.951935  0.028007     1.0       1\n",
      "3    development-4  0.076145  0.472655  0.451201     1.0       1\n",
      "4    development-5  0.076833  0.898564  0.024602     1.0       1\n",
      "5    development-6  0.835568  0.151861  0.012571     0.0       0\n",
      "6    development-7  0.798665  0.152538  0.048796     0.0       2\n",
      "7    development-8  0.119522  0.740976  0.139502     1.0       1\n",
      "8    development-9  0.028281  0.946336  0.025383     1.0       1\n",
      "9   development-10  0.666055  0.299076  0.034869     0.0       0\n",
      "10  development-11  0.073760  0.710725  0.215515     1.0       1\n",
      "11  development-12  0.897549  0.016433  0.086018     0.0       0\n",
      "12  development-13  0.613438  0.361748  0.024814     0.0       0\n",
      "13  development-14  0.694332  0.178089  0.127579     0.0       0\n",
      "14  development-15  0.668445  0.297337  0.034218     0.0       0\n",
      "15  development-16  0.202545  0.614353  0.183102     1.0       2\n",
      "16  development-17  0.235829  0.626497  0.137674     1.0       0\n",
      "17  development-18  0.169369  0.073705  0.756927     2.0       2\n",
      "18  development-19  0.127449  0.620946  0.251604     1.0       1\n",
      "19  development-20  0.106887  0.553194  0.339919     1.0       1\n",
      "acc 0.7665\n"
     ]
    }
   ],
   "source": [
    "## Test\n",
    "print('test_df.target')\n",
    "print_variable_structure(test_df.target)\n",
    "print(test_df.target[:5])\n",
    "\n",
    "print('result')\n",
    "print_variable_structure(result)\n",
    "print(result[:5])\n",
    "\n",
    "print('df_sub')\n",
    "print(df_sub.head(20))\n",
    "print('acc', acc)"
   ],
   "metadata": {
    "collapsed": false,
    "pycharm": {
     "name": "#%%\n"
    }
   }
  },
  {
   "cell_type": "code",
   "execution_count": null,
   "outputs": [],
   "source": [],
   "metadata": {
    "collapsed": false,
    "pycharm": {
     "name": "#%%\n"
    }
   }
  }
 ],
 "metadata": {
  "kernelspec": {
   "display_name": "Python 3",
   "language": "python",
   "name": "python3"
  },
  "language_info": {
   "codemirror_mode": {
    "name": "ipython",
    "version": 2
   },
   "file_extension": ".py",
   "mimetype": "text/x-python",
   "name": "python",
   "nbconvert_exporter": "python",
   "pygments_lexer": "ipython2",
   "version": "2.7.6"
  }
 },
 "nbformat": 4,
 "nbformat_minor": 0
}
