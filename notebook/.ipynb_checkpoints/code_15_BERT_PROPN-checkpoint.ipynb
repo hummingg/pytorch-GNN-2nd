{
 "cells": [
  {
   "cell_type": "code",
   "execution_count": 1,
   "id": "61b0dbcd",
   "metadata": {},
   "outputs": [
    {
     "name": "stdout",
     "output_type": "stream",
     "text": [
      "/home/xhm/nlp/pytorch-GNN/pytorch-GNN-2nd/notebook\n"
     ]
    }
   ],
   "source": [
    "# code_15_BERT_PROPN.py\n",
    "# !pip install transformers\n",
    "import os\n",
    "print(os.getcwd())\n",
    "# GAP dataset: https://github.com/google-research-datasets/gap-coreference"
   ]
  },
  {
   "cell_type": "code",
   "execution_count": 2,
   "id": "558d48c3",
   "metadata": {},
   "outputs": [
    {
     "name": "stderr",
     "output_type": "stream",
     "text": [
      "/home/xhm/.conda/envs/dgl/lib/python3.6/site-packages/tqdm/auto.py:22: TqdmWarning: IProgress not found. Please update jupyter and ipywidgets. See https://ipywidgets.readthedocs.io/en/stable/user_install.html\n",
      "  from .autonotebook import tqdm as notebook_tqdm\n"
     ]
    }
   ],
   "source": [
    "\n",
    "#提取代词特征\n",
    "\n",
    "import pandas as pd \n",
    "import pickle\n",
    "import torch\n",
    "from tqdm import tqdm\n",
    "from transformers import BertTokenizer,BertModel,BertConfig\n",
    "\n",
    "\n"
   ]
  },
  {
   "cell_type": "code",
   "execution_count": 3,
   "id": "a10a38cf",
   "metadata": {},
   "outputs": [],
   "source": [
    "# BERT_PATH = '/home/xhm/nlp/pytorch-GNN/pytorch-GNN-2nd/huggingface/bert-base-uncased'\n",
    "\n",
    "# tokenizer = BertTokenizer.from_pretrained(BERT_PATH)\n",
    "\n",
    "# print(tokenizer.tokenize('I have a good time, thank you.'))\n",
    "\n",
    "# bert = BertModel.from_pretrained(BERT_PATH)\n",
    "\n",
    "# print('load bert model over')\n"
   ]
  },
  {
   "cell_type": "code",
   "execution_count": 4,
   "id": "e3045077",
   "metadata": {},
   "outputs": [
    {
     "name": "stdout",
     "output_type": "stream",
     "text": [
      "cuda:0\n"
     ]
    }
   ],
   "source": [
    "\n",
    "#指定设备\n",
    "device = torch.device(\"cuda:0\" if torch.cuda.is_available() else \"cpu\")\n",
    "print(device)\n",
    "    \n",
    "#读取数据    \n",
    "# 变量命名有问题？\n",
    "df_test = pd.read_csv(\"../gap-coreference/gap-development.tsv\", delimiter=\"\\t\")\n",
    "df_train_val = pd.concat([\n",
    "    pd.read_csv(\"../gap-coreference/gap-test.tsv\", delimiter=\"\\t\"),\n",
    "    pd.read_csv(\"../gap-coreference/gap-validation.tsv\", delimiter=\"\\t\")\n",
    "], axis=0)    \n",
    "\n"
   ]
  },
  {
   "cell_type": "code",
   "execution_count": 5,
   "id": "120189a9",
   "metadata": {},
   "outputs": [],
   "source": [
    "\n",
    "def getmodel():\n",
    "    #加载词表文件tokenizer\n",
    "    tokenizer = BertTokenizer.from_pretrained('../huggingface/bert-base-uncased')\n",
    "    \n",
    "    #添加特殊词\n",
    "    special_tokens_dict = {'additional_special_tokens': [\"[THISISA]\",\"[THISISB]\",\"[THISISP]\"]}\n",
    "    tokenizer.add_special_tokens(special_tokens_dict)\t#添加特殊词\n",
    "    print('from getmodel', tokenizer.additional_special_tokens,tokenizer.additional_special_tokens_ids)\n",
    "\n",
    "    \n",
    "    model = BertModel.from_pretrained('../huggingface/bert-base-uncased')#加载模型\n",
    "    return tokenizer,model\n",
    "\n",
    "\n",
    "    \n",
    "\n",
    "############################\n",
    "\n",
    "\n",
    "def insert_tag(row,hasbrack=True):#按照插入的位置，从大到小排序[(383, ' THISISP '), (366, ' THISISB '), (352, ' THISISA ')]\n",
    "    orgtag=[\" [THISISA] \",\" [THISISB] \",\" [THISISP] \"]\n",
    "    if hasbrack==False:\n",
    "        orgtag=[\" THISISA \",\" THISISB \",\" THISISP \"]\n",
    "        \n",
    "    to_be_inserted = sorted([\n",
    "        (row[\"A-offset\"], orgtag[0]),\n",
    "        (row[\"B-offset\"], orgtag[1]),\n",
    "        (row[\"Pronoun-offset\"], orgtag[2])], key=lambda x: x[0], reverse=True)\n",
    "    \n",
    "    text = row[\"Text\"]#len 443 \n",
    "    for offset, tag in to_be_inserted:#先插最后的，不会影响前面\n",
    "        text = text[:offset] + tag + text[offset:]#（插到每个代词的前面）\n",
    "    return text#len 470 (443+3*9)\n",
    "\n",
    "\n",
    "\n",
    "def tokenize(sequence_ind, tokenizer,sequence_mask= None):#将标签分离，并返回标签偏移位置\n",
    "    entries = {}\n",
    "    final_tokens=[]\n",
    "    final_mask=[]\n",
    "\n",
    "    for i,one in enumerate(sequence_ind):\n",
    "        if one in tokenizer.additional_special_tokens_ids:\n",
    "            tokenstr = tokenizer.convert_ids_to_tokens(one)\n",
    "            entries[tokenstr] = len(final_tokens)\n",
    "            continue\n",
    "        final_tokens.append(one)\n",
    "        if sequence_mask is not None:\n",
    "            final_mask.append(sequence_mask[i])\n",
    "    return  final_tokens, (entries[\"[THISISA]\"], entries[\"[THISISB]\"], entries[\"[THISISP]\"]) ,final_mask   \n",
    "\n",
    "\n",
    "\n",
    "def savepkl(df,name):\n",
    "    bert_prediction = []    \n",
    "    for _, row in tqdm(df.iterrows(),total=len(df)):    \n",
    "        #循环内部\n",
    "        text = insert_tag(row)#插入标签\n",
    "        sequence_ind = tokenizer.encode(text)#向量化\n",
    "        tokens, offsets,_ = tokenize(sequence_ind, tokenizer)#获取标签偏移\n",
    "        token_tensor = torch.LongTensor([tokens]).to(device)\n",
    "        bert_outputs,bert_last_outputs=  model(token_tensor)  #[1, 107, 768] , [1, 768]\n",
    "        print(type(model))\n",
    "        # <class 'str'> last_hidden_state\n",
    "        print(type(bert_outputs), bert_outputs)\n",
    "        print(type(bert_last_outputs), bert_last_outputs)\n",
    "        print(offsets)\n",
    "        extracted_outputs = bert_outputs[:,offsets,:]#根据偏移位置抽取特征向量\n",
    "        bert_prediction.append(extracted_outputs.cpu().numpy())    \n",
    "        break\n",
    "    pickle.dump(bert_prediction, open(name, \"wb\"))\n",
    "\n"
   ]
  },
  {
   "cell_type": "code",
   "execution_count": 6,
   "id": "e53f5417",
   "metadata": {},
   "outputs": [
    {
     "name": "stdout",
     "output_type": "stream",
     "text": [
      "from getmodel ['[THISISA]', '[THISISB]', '[THISISP]'] [30522, 30523, 30524]\n"
     ]
    },
    {
     "name": "stderr",
     "output_type": "stream",
     "text": [
      "Some weights of the model checkpoint at ../huggingface/bert-base-uncased were not used when initializing BertModel: ['cls.predictions.transform.LayerNorm.weight', 'cls.predictions.decoder.weight', 'cls.seq_relationship.weight', 'cls.predictions.transform.dense.bias', 'cls.seq_relationship.bias', 'cls.predictions.bias', 'cls.predictions.transform.dense.weight', 'cls.predictions.transform.LayerNorm.bias']\n",
      "- This IS expected if you are initializing BertModel from the checkpoint of a model trained on another task or with another architecture (e.g. initializing a BertForSequenceClassification model from a BertForPreTraining model).\n",
      "- This IS NOT expected if you are initializing BertModel from the checkpoint of a model that you expect to be exactly identical (initializing a BertForSequenceClassification model from a BertForSequenceClassification model).\n",
      "  0%|          | 0/2000 [00:00<?, ?it/s]"
     ]
    },
    {
     "name": "stdout",
     "output_type": "stream",
     "text": [
      "<class 'str'> last_hidden_state\n",
      "<class 'str'> pooler_output\n",
      "(42, 45, 62)\n"
     ]
    },
    {
     "name": "stderr",
     "output_type": "stream",
     "text": [
      "\n"
     ]
    },
    {
     "ename": "TypeError",
     "evalue": "string indices must be integers",
     "output_type": "error",
     "traceback": [
      "\u001b[0;31m---------------------------------------------------------------------------\u001b[0m",
      "\u001b[0;31mTypeError\u001b[0m                                 Traceback (most recent call last)",
      "\u001b[0;32m<ipython-input-6-32b845b432fd>\u001b[0m in \u001b[0;36m<module>\u001b[0;34m\u001b[0m\n\u001b[1;32m      5\u001b[0m     \u001b[0mtorch\u001b[0m\u001b[0;34m.\u001b[0m\u001b[0mset_grad_enabled\u001b[0m\u001b[0;34m(\u001b[0m\u001b[0;32mFalse\u001b[0m\u001b[0;34m)\u001b[0m\u001b[0;34m\u001b[0m\u001b[0;34m\u001b[0m\u001b[0m\n\u001b[1;32m      6\u001b[0m \u001b[0;34m\u001b[0m\u001b[0m\n\u001b[0;32m----> 7\u001b[0;31m     \u001b[0msavepkl\u001b[0m\u001b[0;34m(\u001b[0m\u001b[0mdf_test\u001b[0m\u001b[0;34m,\u001b[0m \u001b[0;34m'test_bert_outputs_forPROPN.pkl'\u001b[0m\u001b[0;34m)\u001b[0m\u001b[0;34m\u001b[0m\u001b[0;34m\u001b[0m\u001b[0m\n\u001b[0m\u001b[1;32m      8\u001b[0m     \u001b[0msavepkl\u001b[0m\u001b[0;34m(\u001b[0m\u001b[0mdf_train_val\u001b[0m\u001b[0;34m,\u001b[0m \u001b[0;34m'bert_outputs_forPROPN.pkl'\u001b[0m\u001b[0;34m)\u001b[0m\u001b[0;34m\u001b[0m\u001b[0;34m\u001b[0m\u001b[0m\n",
      "\u001b[0;32m<ipython-input-5-3af472abd78e>\u001b[0m in \u001b[0;36msavepkl\u001b[0;34m(df, name)\u001b[0m\n\u001b[1;32m     65\u001b[0m         \u001b[0mprint\u001b[0m\u001b[0;34m(\u001b[0m\u001b[0mtype\u001b[0m\u001b[0;34m(\u001b[0m\u001b[0mbert_last_outputs\u001b[0m\u001b[0;34m)\u001b[0m\u001b[0;34m,\u001b[0m \u001b[0mbert_last_outputs\u001b[0m\u001b[0;34m)\u001b[0m\u001b[0;34m\u001b[0m\u001b[0;34m\u001b[0m\u001b[0m\n\u001b[1;32m     66\u001b[0m         \u001b[0mprint\u001b[0m\u001b[0;34m(\u001b[0m\u001b[0moffsets\u001b[0m\u001b[0;34m)\u001b[0m\u001b[0;34m\u001b[0m\u001b[0;34m\u001b[0m\u001b[0m\n\u001b[0;32m---> 67\u001b[0;31m         \u001b[0mextracted_outputs\u001b[0m \u001b[0;34m=\u001b[0m \u001b[0mbert_outputs\u001b[0m\u001b[0;34m[\u001b[0m\u001b[0;34m:\u001b[0m\u001b[0;34m,\u001b[0m\u001b[0moffsets\u001b[0m\u001b[0;34m,\u001b[0m\u001b[0;34m:\u001b[0m\u001b[0;34m]\u001b[0m\u001b[0;31m#根据偏移位置抽取特征向量\u001b[0m\u001b[0;34m\u001b[0m\u001b[0;34m\u001b[0m\u001b[0m\n\u001b[0m\u001b[1;32m     68\u001b[0m         \u001b[0mbert_prediction\u001b[0m\u001b[0;34m.\u001b[0m\u001b[0mappend\u001b[0m\u001b[0;34m(\u001b[0m\u001b[0mextracted_outputs\u001b[0m\u001b[0;34m.\u001b[0m\u001b[0mcpu\u001b[0m\u001b[0;34m(\u001b[0m\u001b[0;34m)\u001b[0m\u001b[0;34m.\u001b[0m\u001b[0mnumpy\u001b[0m\u001b[0;34m(\u001b[0m\u001b[0;34m)\u001b[0m\u001b[0;34m)\u001b[0m\u001b[0;34m\u001b[0m\u001b[0;34m\u001b[0m\u001b[0m\n\u001b[1;32m     69\u001b[0m         \u001b[0;32mbreak\u001b[0m\u001b[0;34m\u001b[0m\u001b[0;34m\u001b[0m\u001b[0m\n",
      "\u001b[0;31mTypeError\u001b[0m: string indices must be integers"
     ]
    }
   ],
   "source": [
    "\n",
    "if __name__ == '__main__':\n",
    "    \n",
    "    tokenizer,model = getmodel()\n",
    "    model.to(device)\n",
    "    torch.set_grad_enabled(False)\n",
    "    \n",
    "    savepkl(df_test, 'test_bert_outputs_forPROPN.pkl')    \n",
    "    savepkl(df_train_val, 'bert_outputs_forPROPN.pkl')   "
   ]
  },
  {
   "cell_type": "code",
   "execution_count": null,
   "id": "acf32ff4",
   "metadata": {},
   "outputs": [],
   "source": []
  }
 ],
 "metadata": {
  "kernelspec": {
   "display_name": "dgl",
   "language": "python",
   "name": "dgl"
  },
  "language_info": {
   "codemirror_mode": {
    "name": "ipython",
    "version": 3
   },
   "file_extension": ".py",
   "mimetype": "text/x-python",
   "name": "python",
   "nbconvert_exporter": "python",
   "pygments_lexer": "ipython3",
   "version": "3.6.13"
  }
 },
 "nbformat": 4,
 "nbformat_minor": 5
}
